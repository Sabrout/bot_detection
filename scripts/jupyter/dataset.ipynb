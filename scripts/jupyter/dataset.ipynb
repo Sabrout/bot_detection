{
 "cells": [
  {
   "cell_type": "code",
   "execution_count": 1,
   "metadata": {},
   "outputs": [
    {
     "name": "stdout",
     "output_type": "stream",
     "text": [
      "Dataset Size:  (100473, 4)\n"
     ]
    },
    {
     "data": {
      "text/html": [
       "<div>\n",
       "<style scoped>\n",
       "    .dataframe tbody tr th:only-of-type {\n",
       "        vertical-align: middle;\n",
       "    }\n",
       "\n",
       "    .dataframe tbody tr th {\n",
       "        vertical-align: top;\n",
       "    }\n",
       "\n",
       "    .dataframe thead th {\n",
       "        text-align: right;\n",
       "    }\n",
       "</style>\n",
       "<table border=\"1\" class=\"dataframe\">\n",
       "  <thead>\n",
       "    <tr style=\"text-align: right;\">\n",
       "      <th></th>\n",
       "      <th>UserId</th>\n",
       "      <th>Event</th>\n",
       "      <th>Category</th>\n",
       "      <th>Fake</th>\n",
       "    </tr>\n",
       "  </thead>\n",
       "  <tbody>\n",
       "    <tr>\n",
       "      <th>0</th>\n",
       "      <td>F7A7BF3761</td>\n",
       "      <td>click_carrousel</td>\n",
       "      <td>Phone</td>\n",
       "      <td>0</td>\n",
       "    </tr>\n",
       "    <tr>\n",
       "      <th>1</th>\n",
       "      <td>BA8F7A71E6</td>\n",
       "      <td>send_sms</td>\n",
       "      <td>Motor</td>\n",
       "      <td>0</td>\n",
       "    </tr>\n",
       "    <tr>\n",
       "      <th>2</th>\n",
       "      <td>21C64F22FC</td>\n",
       "      <td>send_email</td>\n",
       "      <td>Jobs</td>\n",
       "      <td>0</td>\n",
       "    </tr>\n",
       "    <tr>\n",
       "      <th>3</th>\n",
       "      <td>F9E0306603</td>\n",
       "      <td>send_sms</td>\n",
       "      <td>Jobs</td>\n",
       "      <td>0</td>\n",
       "    </tr>\n",
       "    <tr>\n",
       "      <th>4</th>\n",
       "      <td>1B2143BACC</td>\n",
       "      <td>click_ad</td>\n",
       "      <td>Phone</td>\n",
       "      <td>0</td>\n",
       "    </tr>\n",
       "  </tbody>\n",
       "</table>\n",
       "</div>"
      ],
      "text/plain": [
       "       UserId            Event Category  Fake\n",
       "0  F7A7BF3761  click_carrousel    Phone     0\n",
       "1  BA8F7A71E6         send_sms    Motor     0\n",
       "2  21C64F22FC       send_email     Jobs     0\n",
       "3  F9E0306603         send_sms     Jobs     0\n",
       "4  1B2143BACC         click_ad    Phone     0"
      ]
     },
     "execution_count": 1,
     "metadata": {},
     "output_type": "execute_result"
    }
   ],
   "source": [
    "import json\n",
    "\n",
    "import pandas as pd\n",
    "\n",
    "df = pd.read_csv('resources/fake_users.csv')\n",
    "df = df.loc[:, ~df.columns.str.contains('^Unnamed')]\n",
    "print('Dataset Size: ', df.shape)\n",
    "df.head()"
   ]
  },
  {
   "cell_type": "code",
   "execution_count": 2,
   "metadata": {},
   "outputs": [
    {
     "name": "stdout",
     "output_type": "stream",
     "text": [
      "0    90114\n",
      "1    10359\n",
      "Name: Fake, dtype: int64\n"
     ]
    },
    {
     "data": {
      "image/png": "[encoded data removed]",
      "text/plain": [
       "<Figure size 432x288 with 1 Axes>"
      ]
     },
     "metadata": {
      "needs_background": "light"
     },
     "output_type": "display_data"
    }
   ],
   "source": [
    "df['Fake'].value_counts().plot(kind='bar')\n",
    "print(df['Fake'].value_counts()) # Imbalanced Dataset"
   ]
  },
  {
   "cell_type": "code",
   "execution_count": 3,
   "metadata": {},
   "outputs": [
    {
     "name": "stdout",
     "output_type": "stream",
     "text": [
      "[Event] feature\n",
      "send_email         22822\n",
      "click_ad           22201\n",
      "click_carrousel    18668\n",
      "phone_call         18430\n",
      "send_sms           18352\n",
      "Name: Event, dtype: int64\n",
      "[Category] feature\n",
      "Motor         16987\n",
      "Holidays      16905\n",
      "Leisure       16904\n",
      "Phone         16735\n",
      "Real_State    16582\n",
      "Jobs          16360\n",
      "Name: Category, dtype: int64\n"
     ]
    }
   ],
   "source": [
    "print('[Event] feature')\n",
    "print(df['Event'].value_counts())\n",
    "\n",
    "print('[Category] feature')\n",
    "print(df['Category'].value_counts())"
   ]
  },
  {
   "cell_type": "code",
   "execution_count": 4,
   "metadata": {},
   "outputs": [
    {
     "name": "stdout",
     "output_type": "stream",
     "text": [
      "Dataset Size:  (2998, 4)\n"
     ]
    },
    {
     "data": {
      "text/html": [
       "<div>\n",
       "<style scoped>\n",
       "    .dataframe tbody tr th:only-of-type {\n",
       "        vertical-align: middle;\n",
       "    }\n",
       "\n",
       "    .dataframe tbody tr th {\n",
       "        vertical-align: top;\n",
       "    }\n",
       "\n",
       "    .dataframe thead th {\n",
       "        text-align: right;\n",
       "    }\n",
       "</style>\n",
       "<table border=\"1\" class=\"dataframe\">\n",
       "  <thead>\n",
       "    <tr style=\"text-align: right;\">\n",
       "      <th></th>\n",
       "      <th>UserId</th>\n",
       "      <th>Event</th>\n",
       "      <th>Category</th>\n",
       "      <th>Fake</th>\n",
       "    </tr>\n",
       "  </thead>\n",
       "  <tbody>\n",
       "    <tr>\n",
       "      <th>0</th>\n",
       "      <td>03E7EE785DT</td>\n",
       "      <td>click_carrousel</td>\n",
       "      <td>Phone</td>\n",
       "      <td>0</td>\n",
       "    </tr>\n",
       "    <tr>\n",
       "      <th>1</th>\n",
       "      <td>F0F3098683T</td>\n",
       "      <td>click_ad</td>\n",
       "      <td>Leisure</td>\n",
       "      <td>0</td>\n",
       "    </tr>\n",
       "    <tr>\n",
       "      <th>2</th>\n",
       "      <td>5064A38F0DT</td>\n",
       "      <td>click_carrousel</td>\n",
       "      <td>Phone</td>\n",
       "      <td>0</td>\n",
       "    </tr>\n",
       "    <tr>\n",
       "      <th>3</th>\n",
       "      <td>5C8E90A354T</td>\n",
       "      <td>click_carrousel</td>\n",
       "      <td>Motor</td>\n",
       "      <td>0</td>\n",
       "    </tr>\n",
       "    <tr>\n",
       "      <th>4</th>\n",
       "      <td>DC1F29D286T</td>\n",
       "      <td>send_sms</td>\n",
       "      <td>Motor</td>\n",
       "      <td>0</td>\n",
       "    </tr>\n",
       "  </tbody>\n",
       "</table>\n",
       "</div>"
      ],
      "text/plain": [
       "        UserId            Event Category  Fake\n",
       "0  03E7EE785DT  click_carrousel    Phone     0\n",
       "1  F0F3098683T         click_ad  Leisure     0\n",
       "2  5064A38F0DT  click_carrousel    Phone     0\n",
       "3  5C8E90A354T  click_carrousel    Motor     0\n",
       "4  DC1F29D286T         send_sms    Motor     0"
      ]
     },
     "execution_count": 4,
     "metadata": {},
     "output_type": "execute_result"
    }
   ],
   "source": [
    "import json\n",
    "\n",
    "import pandas as pd\n",
    "\n",
    "df_test = pd.read_csv('resources/fake_users_test.csv')\n",
    "df_test = df_test.loc[:, ~df_test.columns.str.contains('^Unnamed')]\n",
    "print('Dataset Size: ', df_test.shape)\n",
    "df_test.head()"
   ]
  },
  {
   "cell_type": "code",
   "execution_count": 5,
   "metadata": {},
   "outputs": [
    {
     "name": "stdout",
     "output_type": "stream",
     "text": [
      "0    2583\n",
      "1     415\n",
      "Name: Fake, dtype: int64\n"
     ]
    },
    {
     "data": {
      "image/png": "[encoded data removed]",
      "text/plain": [
       "<Figure size 432x288 with 1 Axes>"
      ]
     },
     "metadata": {
      "needs_background": "light"
     },
     "output_type": "display_data"
    }
   ],
   "source": [
    "df_test['Fake'].value_counts().plot(kind='bar')\n",
    "print(df_test['Fake'].value_counts()) # Also Imbalanced Test Dataset"
   ]
  },
  {
   "cell_type": "code",
   "execution_count": 6,
   "metadata": {},
   "outputs": [
    {
     "name": "stdout",
     "output_type": "stream",
     "text": [
      "[Event] feature\n",
      "send_email         689\n",
      "click_ad           685\n",
      "phone_call         547\n",
      "click_carrousel    545\n",
      "send_sms           532\n",
      "Name: Event, dtype: int64\n",
      "[Category] feature\n",
      "Phone         572\n",
      "Motor         549\n",
      "Holidays      545\n",
      "Jobs          476\n",
      "Real_State    442\n",
      "Leisure       414\n",
      "Name: Category, dtype: int64\n"
     ]
    }
   ],
   "source": [
    "print('[Event] feature')\n",
    "print(df_test['Event'].value_counts())\n",
    "\n",
    "print('[Category] feature')\n",
    "print(df_test['Category'].value_counts())"
   ]
  },
  {
   "cell_type": "code",
   "execution_count": 7,
   "metadata": {},
   "outputs": [
    {
     "name": "stdout",
     "output_type": "stream",
     "text": [
      "Dataset Size:  (5300, 32)\n"
     ]
    },
    {
     "data": {
      "text/html": [
       "<div>\n",
       "<style scoped>\n",
       "    .dataframe tbody tr th:only-of-type {\n",
       "        vertical-align: middle;\n",
       "    }\n",
       "\n",
       "    .dataframe tbody tr th {\n",
       "        vertical-align: top;\n",
       "    }\n",
       "\n",
       "    .dataframe thead th {\n",
       "        text-align: right;\n",
       "    }\n",
       "</style>\n",
       "<table border=\"1\" class=\"dataframe\">\n",
       "  <thead>\n",
       "    <tr style=\"text-align: right;\">\n",
       "      <th></th>\n",
       "      <th>UserId</th>\n",
       "      <th>Fake</th>\n",
       "      <th>feat_click_ad_Holidays</th>\n",
       "      <th>feat_click_ad_Jobs</th>\n",
       "      <th>feat_click_ad_Leisure</th>\n",
       "      <th>feat_click_ad_Motor</th>\n",
       "      <th>feat_click_ad_Phone</th>\n",
       "      <th>feat_click_ad_Real_State</th>\n",
       "      <th>feat_click_carrousel_Holidays</th>\n",
       "      <th>feat_click_carrousel_Jobs</th>\n",
       "      <th>...</th>\n",
       "      <th>feat_send_email_Leisure</th>\n",
       "      <th>feat_send_email_Motor</th>\n",
       "      <th>feat_send_email_Phone</th>\n",
       "      <th>feat_send_email_Real_State</th>\n",
       "      <th>feat_send_sms_Holidays</th>\n",
       "      <th>feat_send_sms_Jobs</th>\n",
       "      <th>feat_send_sms_Leisure</th>\n",
       "      <th>feat_send_sms_Motor</th>\n",
       "      <th>feat_send_sms_Phone</th>\n",
       "      <th>feat_send_sms_Real_State</th>\n",
       "    </tr>\n",
       "  </thead>\n",
       "  <tbody>\n",
       "    <tr>\n",
       "      <th>0</th>\n",
       "      <td>00079D439D</td>\n",
       "      <td>0</td>\n",
       "      <td>0</td>\n",
       "      <td>0</td>\n",
       "      <td>0</td>\n",
       "      <td>0</td>\n",
       "      <td>5</td>\n",
       "      <td>0</td>\n",
       "      <td>0</td>\n",
       "      <td>0</td>\n",
       "      <td>...</td>\n",
       "      <td>0</td>\n",
       "      <td>0</td>\n",
       "      <td>3</td>\n",
       "      <td>0</td>\n",
       "      <td>0</td>\n",
       "      <td>0</td>\n",
       "      <td>0</td>\n",
       "      <td>0</td>\n",
       "      <td>3</td>\n",
       "      <td>0</td>\n",
       "    </tr>\n",
       "    <tr>\n",
       "      <th>1</th>\n",
       "      <td>0007A4D4AE</td>\n",
       "      <td>0</td>\n",
       "      <td>0</td>\n",
       "      <td>0</td>\n",
       "      <td>0</td>\n",
       "      <td>0</td>\n",
       "      <td>5</td>\n",
       "      <td>0</td>\n",
       "      <td>0</td>\n",
       "      <td>0</td>\n",
       "      <td>...</td>\n",
       "      <td>0</td>\n",
       "      <td>0</td>\n",
       "      <td>3</td>\n",
       "      <td>0</td>\n",
       "      <td>0</td>\n",
       "      <td>0</td>\n",
       "      <td>0</td>\n",
       "      <td>0</td>\n",
       "      <td>1</td>\n",
       "      <td>0</td>\n",
       "    </tr>\n",
       "    <tr>\n",
       "      <th>2</th>\n",
       "      <td>000AFE2623</td>\n",
       "      <td>0</td>\n",
       "      <td>2</td>\n",
       "      <td>1</td>\n",
       "      <td>0</td>\n",
       "      <td>0</td>\n",
       "      <td>0</td>\n",
       "      <td>0</td>\n",
       "      <td>4</td>\n",
       "      <td>0</td>\n",
       "      <td>...</td>\n",
       "      <td>0</td>\n",
       "      <td>0</td>\n",
       "      <td>0</td>\n",
       "      <td>0</td>\n",
       "      <td>6</td>\n",
       "      <td>0</td>\n",
       "      <td>1</td>\n",
       "      <td>0</td>\n",
       "      <td>0</td>\n",
       "      <td>0</td>\n",
       "    </tr>\n",
       "    <tr>\n",
       "      <th>3</th>\n",
       "      <td>001A5362BC</td>\n",
       "      <td>0</td>\n",
       "      <td>0</td>\n",
       "      <td>0</td>\n",
       "      <td>3</td>\n",
       "      <td>0</td>\n",
       "      <td>0</td>\n",
       "      <td>0</td>\n",
       "      <td>0</td>\n",
       "      <td>0</td>\n",
       "      <td>...</td>\n",
       "      <td>5</td>\n",
       "      <td>0</td>\n",
       "      <td>0</td>\n",
       "      <td>0</td>\n",
       "      <td>0</td>\n",
       "      <td>0</td>\n",
       "      <td>2</td>\n",
       "      <td>0</td>\n",
       "      <td>0</td>\n",
       "      <td>0</td>\n",
       "    </tr>\n",
       "    <tr>\n",
       "      <th>4</th>\n",
       "      <td>0025995AF5</td>\n",
       "      <td>0</td>\n",
       "      <td>0</td>\n",
       "      <td>0</td>\n",
       "      <td>0</td>\n",
       "      <td>0</td>\n",
       "      <td>3</td>\n",
       "      <td>1</td>\n",
       "      <td>1</td>\n",
       "      <td>0</td>\n",
       "      <td>...</td>\n",
       "      <td>0</td>\n",
       "      <td>0</td>\n",
       "      <td>2</td>\n",
       "      <td>0</td>\n",
       "      <td>0</td>\n",
       "      <td>0</td>\n",
       "      <td>0</td>\n",
       "      <td>2</td>\n",
       "      <td>2</td>\n",
       "      <td>0</td>\n",
       "    </tr>\n",
       "  </tbody>\n",
       "</table>\n",
       "<p>5 rows × 32 columns</p>\n",
       "</div>"
      ],
      "text/plain": [
       "       UserId  Fake  feat_click_ad_Holidays  feat_click_ad_Jobs  \\\n",
       "0  00079D439D     0                       0                   0   \n",
       "1  0007A4D4AE     0                       0                   0   \n",
       "2  000AFE2623     0                       2                   1   \n",
       "3  001A5362BC     0                       0                   0   \n",
       "4  0025995AF5     0                       0                   0   \n",
       "\n",
       "   feat_click_ad_Leisure  feat_click_ad_Motor  feat_click_ad_Phone  \\\n",
       "0                      0                    0                    5   \n",
       "1                      0                    0                    5   \n",
       "2                      0                    0                    0   \n",
       "3                      3                    0                    0   \n",
       "4                      0                    0                    3   \n",
       "\n",
       "   feat_click_ad_Real_State  feat_click_carrousel_Holidays  \\\n",
       "0                         0                              0   \n",
       "1                         0                              0   \n",
       "2                         0                              4   \n",
       "3                         0                              0   \n",
       "4                         1                              1   \n",
       "\n",
       "   feat_click_carrousel_Jobs  ...  feat_send_email_Leisure  \\\n",
       "0                          0  ...                        0   \n",
       "1                          0  ...                        0   \n",
       "2                          0  ...                        0   \n",
       "3                          0  ...                        5   \n",
       "4                          0  ...                        0   \n",
       "\n",
       "   feat_send_email_Motor  feat_send_email_Phone  feat_send_email_Real_State  \\\n",
       "0                      0                      3                           0   \n",
       "1                      0                      3                           0   \n",
       "2                      0                      0                           0   \n",
       "3                      0                      0                           0   \n",
       "4                      0                      2                           0   \n",
       "\n",
       "   feat_send_sms_Holidays  feat_send_sms_Jobs  feat_send_sms_Leisure  \\\n",
       "0                       0                   0                      0   \n",
       "1                       0                   0                      0   \n",
       "2                       6                   0                      1   \n",
       "3                       0                   0                      2   \n",
       "4                       0                   0                      0   \n",
       "\n",
       "   feat_send_sms_Motor  feat_send_sms_Phone  feat_send_sms_Real_State  \n",
       "0                    0                    3                         0  \n",
       "1                    0                    1                         0  \n",
       "2                    0                    0                         0  \n",
       "3                    0                    0                         0  \n",
       "4                    2                    2                         0  \n",
       "\n",
       "[5 rows x 32 columns]"
      ]
     },
     "execution_count": 7,
     "metadata": {},
     "output_type": "execute_result"
    }
   ],
   "source": [
    "import json\n",
    "\n",
    "import pandas as pd\n",
    "\n",
    "df_train = pd.read_csv('resources/dataset.csv')\n",
    "print('Dataset Size: ', df_train.shape)\n",
    "df_train.head()"
   ]
  },
  {
   "cell_type": "code",
   "execution_count": 10,
   "metadata": {},
   "outputs": [
    {
     "name": "stdout",
     "output_type": "stream",
     "text": [
      "0    5000\n",
      "1     300\n",
      "Name: Fake, dtype: int64\n"
     ]
    },
    {
     "data": {
      "image/png": "[encoded data removed]",
      "text/plain": [
       "<Figure size 432x288 with 1 Axes>"
      ]
     },
     "metadata": {
      "needs_background": "light"
     },
     "output_type": "display_data"
    }
   ],
   "source": [
    "df_train['Fake'].value_counts().plot(kind='bar')\n",
    "print(df_train['Fake'].value_counts()) # Still Imbalanced Dataset"
   ]
  }
 ],
 "metadata": {
  "interpreter": {
   "hash": "b7cff29c331b2e7b6e0003a2776ab5dca89209dfb6588edb6828d6a519b6f7d2"
  },
  "kernelspec": {
   "display_name": "Python 3.8.12 64-bit ('adevinta': conda)",
   "language": "python",
   "name": "python3"
  },
  "language_info": {
   "codemirror_mode": {
    "name": "ipython",
    "version": 3
   },
   "file_extension": ".py",
   "mimetype": "text/x-python",
   "name": "python",
   "nbconvert_exporter": "python",
   "pygments_lexer": "ipython3",
   "version": "3.8.12"
  },
  "orig_nbformat": 4
 },
 "nbformat": 4,
 "nbformat_minor": 2
}
